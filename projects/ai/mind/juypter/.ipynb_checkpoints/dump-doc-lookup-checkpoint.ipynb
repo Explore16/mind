{
 "cells": [
  {
   "cell_type": "code",
   "execution_count": 1,
   "metadata": {},
   "outputs": [],
   "source": [
    "import gezi\n",
    "from gezi import tqdm\n",
    "import numpy as np\n",
    "from transformers import AutoTokenizer\n",
    "import json"
   ]
  },
  {
   "cell_type": "code",
   "execution_count": 2,
   "metadata": {},
   "outputs": [],
   "source": [
    "news_names = ['did', 'cat', 'sub_cat', 'title', 'abstract', 'url', 'title_entities', 'abstract_entities']"
   ]
  },
  {
   "cell_type": "markdown",
   "metadata": {},
   "source": [
    "# title "
   ]
  },
  {
   "cell_type": "code",
   "execution_count": 3,
   "metadata": {},
   "outputs": [
    {
     "name": "stdout",
     "output_type": "stream",
     "text": [
      "130381\n"
     ]
    },
    {
     "name": "stderr",
     "output_type": "stream",
     "text": [
      "100%|██████████| 130379/130379 [00:43<00:00, 3011.49it/s]\n"
     ]
    }
   ],
   "source": [
    "files = [\n",
    "          '../input/news/news.tsv',\n",
    "        ]\n",
    "\n",
    "model_name = 'bert-base-cased'\n",
    "model = f'/home/gezi/data/lm/{model_name}'\n",
    "tokenizer = AutoTokenizer.from_pretrained(model)\n",
    "\n",
    "emb_size = 30\n",
    "\n",
    "vocab = gezi.Vocab('../input/did.txt')\n",
    "emb_height = vocab.size()\n",
    "print(emb_height)\n",
    "\n",
    "empty = [0] * emb_size\n",
    "empty[0] = 1\n",
    "\n",
    "emb = [empty] * emb_height\n",
    "lens = []\n",
    "for file_ in files:\n",
    "  total = len(open(file_).readlines())\n",
    "  for line in tqdm(open(file_), total=total):\n",
    "    l = line.strip().split('\\t')\n",
    "    did, title = l[0], l[3]\n",
    "    if title:\n",
    "      tokens = tokenizer.encode(title)\n",
    "    else:\n",
    "      tokens = [1]\n",
    "    lens += [len(tokens[1:-1])]\n",
    "    tokens = gezi.pad(tokens[1:-1], emb_size)\n",
    "    emb[vocab.id(did)] = np.asarray(tokens)\n",
    "emb = np.asarray(emb)"
   ]
  },
  {
   "cell_type": "code",
   "execution_count": 4,
   "metadata": {},
   "outputs": [
    {
     "name": "stdout",
     "output_type": "stream",
     "text": [
      "[[    1     0     0 ...     0     0     0]\n",
      " [    1     0     0 ...     0     0     0]\n",
      " [ 1109  3128  1130 ...     0     0     0]\n",
      " ...\n",
      " [ 9743  1192 12958 ...     0     0     0]\n",
      " [ 2289 24409   117 ...     0     0     0]\n",
      " [21166   119  3254 ...     0     0     0]]\n",
      "(130381, 30)\n"
     ]
    }
   ],
   "source": [
    "print(emb)\n",
    "print(emb.shape)\n",
    "\n",
    "np.save(f'../input/title_lookup.npy', emb)"
   ]
  },
  {
   "cell_type": "code",
   "execution_count": 5,
   "metadata": {},
   "outputs": [
    {
     "name": "stdout",
     "output_type": "stream",
     "text": [
      "15.035120686613642\n",
      "2\n",
      "74\n"
     ]
    }
   ],
   "source": [
    "print(np.mean(lens))\n",
    "print(np.min(lens))\n",
    "print(np.max(lens))"
   ]
  },
  {
   "cell_type": "markdown",
   "metadata": {},
   "source": [
    "# cat sbucat"
   ]
  },
  {
   "cell_type": "code",
   "execution_count": 6,
   "metadata": {},
   "outputs": [
    {
     "name": "stdout",
     "output_type": "stream",
     "text": [
      "130381\n"
     ]
    },
    {
     "name": "stderr",
     "output_type": "stream",
     "text": [
      "100%|██████████| 130379/130379 [00:01<00:00, 113124.27it/s]\n"
     ]
    },
    {
     "name": "stdout",
     "output_type": "stream",
     "text": [
      "[[  1   1]\n",
      " [  1   1]\n",
      " [  3  40]\n",
      " ...\n",
      " [ 10 104]\n",
      " [  2   3]\n",
      " [  2  19]]\n",
      "(130381, 2)\n"
     ]
    }
   ],
   "source": [
    "files = [\n",
    "          '../input/news/news.tsv',\n",
    "        ]\n",
    "\n",
    "\n",
    "emb_size = 2\n",
    "vocab = gezi.Vocab('../input/did.txt')\n",
    "cat_vocab = gezi.Vocab('../input/cat.txt')\n",
    "scat_vocab = gezi.Vocab('../input/sub_cat.txt')\n",
    "emb_height = vocab.size()\n",
    "print(emb_height)\n",
    "empty = [1] * emb_size\n",
    "emb = [empty] * emb_height\n",
    "\n",
    "for file_ in files:\n",
    "  total = len(open(file_).readlines())\n",
    "  for line in tqdm(open(file_), total=total):\n",
    "    l = line.strip().split('\\t')\n",
    "    did, cat, sub_cat = l[0], l[1], l[2]\n",
    "    data = [cat_vocab.id(cat), scat_vocab.id(sub_cat)]\n",
    "    emb[vocab.id(did)] = np.asarray(data)\n",
    "\n",
    "emb = np.asarray(emb)\n",
    "print(emb)\n",
    "print(emb.shape)\n",
    "\n",
    "np.save(f'../input/cat_lookup.npy', emb)"
   ]
  },
  {
   "cell_type": "markdown",
   "metadata": {},
   "source": [
    "# abstract"
   ]
  },
  {
   "cell_type": "code",
   "execution_count": 7,
   "metadata": {},
   "outputs": [
    {
     "name": "stdout",
     "output_type": "stream",
     "text": [
      "130381\n"
     ]
    },
    {
     "name": "stderr",
     "output_type": "stream",
     "text": [
      "  1%|          | 744/130379 [00:00<01:27, 1480.18it/s]WARNING:transformers.tokenization_utils:Token indices sequence length is longer than the specified maximum sequence length for this model (535 > 512). Running this sequence through the model will result in indexing errors\n",
      "WARNING:transformers.tokenization_utils:Token indices sequence length is longer than the specified maximum sequence length for this model (607 > 512). Running this sequence through the model will result in indexing errors\n",
      "  3%|▎         | 3907/130379 [00:02<01:43, 1227.68it/s]WARNING:transformers.tokenization_utils:Token indices sequence length is longer than the specified maximum sequence length for this model (634 > 512). Running this sequence through the model will result in indexing errors\n",
      " 31%|███       | 40644/130379 [00:34<01:18, 1150.07it/s]WARNING:transformers.tokenization_utils:Token indices sequence length is longer than the specified maximum sequence length for this model (625 > 512). Running this sequence through the model will result in indexing errors\n",
      " 32%|███▏      | 42371/130379 [00:36<01:17, 1135.21it/s]WARNING:transformers.tokenization_utils:Token indices sequence length is longer than the specified maximum sequence length for this model (632 > 512). Running this sequence through the model will result in indexing errors\n",
      " 39%|███▉      | 51446/130379 [00:44<01:10, 1122.42it/s]WARNING:transformers.tokenization_utils:Token indices sequence length is longer than the specified maximum sequence length for this model (622 > 512). Running this sequence through the model will result in indexing errors\n",
      " 42%|████▏     | 54219/130379 [00:47<01:11, 1062.13it/s]WARNING:transformers.tokenization_utils:Token indices sequence length is longer than the specified maximum sequence length for this model (618 > 512). Running this sequence through the model will result in indexing errors\n",
      " 49%|████▊     | 63392/130379 [00:55<01:02, 1070.95it/s]WARNING:transformers.tokenization_utils:Token indices sequence length is longer than the specified maximum sequence length for this model (536 > 512). Running this sequence through the model will result in indexing errors\n",
      " 57%|█████▋    | 74202/130379 [01:05<00:52, 1067.38it/s]WARNING:transformers.tokenization_utils:Token indices sequence length is longer than the specified maximum sequence length for this model (521 > 512). Running this sequence through the model will result in indexing errors\n",
      " 68%|██████▊   | 88039/130379 [01:17<00:38, 1104.37it/s]WARNING:transformers.tokenization_utils:Token indices sequence length is longer than the specified maximum sequence length for this model (621 > 512). Running this sequence through the model will result in indexing errors\n",
      " 91%|█████████ | 118936/130379 [01:45<00:11, 1021.90it/s]WARNING:transformers.tokenization_utils:Token indices sequence length is longer than the specified maximum sequence length for this model (944 > 512). Running this sequence through the model will result in indexing errors\n",
      " 92%|█████████▏| 119811/130379 [01:46<00:10, 1049.13it/s]WARNING:transformers.tokenization_utils:Token indices sequence length is longer than the specified maximum sequence length for this model (882 > 512). Running this sequence through the model will result in indexing errors\n",
      " 96%|█████████▌| 125035/130379 [01:50<00:04, 1094.38it/s]WARNING:transformers.tokenization_utils:Token indices sequence length is longer than the specified maximum sequence length for this model (747 > 512). Running this sequence through the model will result in indexing errors\n",
      "100%|██████████| 130379/130379 [01:55<00:00, 1126.40it/s]\n"
     ]
    },
    {
     "name": "stdout",
     "output_type": "stream",
     "text": [
      "[[    1     0     0 ...     0     0     0]\n",
      " [    1     0     0 ...     0     0     0]\n",
      " [ 3128  1112  1562 ...     0     0     0]\n",
      " ...\n",
      " [ 1636  1132  1103 ...     0     0     0]\n",
      " [  123   118  1795 ...  1795 27019   117]\n",
      " [ 1109  1148  1226 ...  1509  3299  1406]]\n",
      "(130381, 50)\n"
     ]
    }
   ],
   "source": [
    "files = [\n",
    "          '../input/news/news.tsv',\n",
    "        ]\n",
    "\n",
    "model_name = 'bert-base-cased'\n",
    "model = f'/home/gezi/data/lm/{model_name}'\n",
    "tokenizer = AutoTokenizer.from_pretrained(model)\n",
    "\n",
    "emb_size = 50\n",
    "\n",
    "vocab = gezi.Vocab('../input/did.txt')\n",
    "emb_height = vocab.size()\n",
    "print(emb_height)\n",
    "\n",
    "empty = [0] * emb_size\n",
    "empty[0] = 1\n",
    "\n",
    "emb = [empty] * emb_height\n",
    "lens = []\n",
    "for file_ in files:\n",
    "  total = len(open(file_).readlines())\n",
    "  for line in tqdm(open(file_), total=total):\n",
    "    l = line.strip().split('\\t')\n",
    "    did, abstract = l[0], l[4]\n",
    "    if abstract:\n",
    "      tokens = tokenizer.encode(abstract)\n",
    "    else:\n",
    "      tokens = [1]\n",
    "    lens += [len(tokens[1:-1])]\n",
    "    tokens = gezi.pad(tokens[1:-1], emb_size)\n",
    "    emb[vocab.id(did)] = np.asarray(tokens)\n",
    "\n",
    "emb = np.asarray(emb)\n",
    "print(emb)\n",
    "print(emb.shape)\n",
    "\n",
    "np.save(f'../input/abstract_lookup.npy', emb)"
   ]
  },
  {
   "cell_type": "code",
   "execution_count": 8,
   "metadata": {},
   "outputs": [
    {
     "name": "stdout",
     "output_type": "stream",
     "text": [
      "49.402311721979764\n",
      "0\n",
      "944\n"
     ]
    }
   ],
   "source": [
    "print(np.mean(lens))\n",
    "print(np.min(lens))\n",
    "print(np.max(lens))"
   ]
  },
  {
   "cell_type": "markdown",
   "metadata": {},
   "source": [
    "# body"
   ]
  },
  {
   "cell_type": "code",
   "execution_count": 9,
   "metadata": {},
   "outputs": [
    {
     "name": "stdout",
     "output_type": "stream",
     "text": [
      "130381\n"
     ]
    }
   ],
   "source": [
    "files = [\n",
    "          '../input/news/msn.json',\n",
    "        ]\n",
    "\n",
    "model_name = 'bert-base-cased'\n",
    "model = f'/home/gezi/data/lm/{model_name}'\n",
    "tokenizer = AutoTokenizer.from_pretrained(model)\n",
    "\n",
    "emb_size = 100\n",
    "\n",
    "vocab = gezi.Vocab('../input/did.txt')\n",
    "emb_height = vocab.size()\n",
    "print(emb_height)\n",
    "\n",
    "empty = [0] * emb_size\n",
    "empty[0] = 1\n",
    "emb = [empty] * emb_height\n",
    "lens = []\n",
    "\n",
    "bodys = json.load(open(files[0]))"
   ]
  },
  {
   "cell_type": "code",
   "execution_count": 10,
   "metadata": {},
   "outputs": [
    {
     "name": "stderr",
     "output_type": "stream",
     "text": [
      "100%|██████████| 130379/130379 [00:00<00:00, 213959.13it/s]\n"
     ]
    }
   ],
   "source": [
    "nid2did = {}\n",
    "file = '../input/news/news.tsv'\n",
    "total = len(open(file).readlines())\n",
    "for line in tqdm(open(file), total=total):\n",
    "  l = line.strip().split('\\t')\n",
    "  did, url = l[0], l[5]\n",
    "  nid = url.split('/')[-1].split('.')[0]\n",
    "  nid2did[nid] = did"
   ]
  },
  {
   "cell_type": "code",
   "execution_count": 11,
   "metadata": {},
   "outputs": [
    {
     "name": "stderr",
     "output_type": "stream",
     "text": [
      "  7%|▋         | 9288/130379 [00:20<04:13, 477.63it/s]WARNING:transformers.tokenization_utils:Token indices sequence length is longer than the specified maximum sequence length for this model (544 > 512). Running this sequence through the model will result in indexing errors\n",
      " 31%|███       | 40685/130379 [01:28<03:10, 470.86it/s]WARNING:transformers.tokenization_utils:Token indices sequence length is longer than the specified maximum sequence length for this model (609 > 512). Running this sequence through the model will result in indexing errors\n",
      " 40%|███▉      | 51521/130379 [01:51<02:51, 460.66it/s]WARNING:transformers.tokenization_utils:Token indices sequence length is longer than the specified maximum sequence length for this model (610 > 512). Running this sequence through the model will result in indexing errors\n",
      " 42%|████▏     | 54259/130379 [01:57<02:57, 429.02it/s]WARNING:transformers.tokenization_utils:Token indices sequence length is longer than the specified maximum sequence length for this model (618 > 512). Running this sequence through the model will result in indexing errors\n",
      " 68%|██████▊   | 88063/130379 [03:09<01:26, 488.31it/s]WARNING:transformers.tokenization_utils:Token indices sequence length is longer than the specified maximum sequence length for this model (621 > 512). Running this sequence through the model will result in indexing errors\n",
      "100%|██████████| 130379/130379 [04:37<00:00, 469.33it/s]\n"
     ]
    }
   ],
   "source": [
    "lens = []\n",
    "for body_ in tqdm(bodys, total=len(bodys)):\n",
    "  body = ' '.join(body_['body'])\n",
    "  body = ' '.join(body.split()[:100])\n",
    "  tokens = tokenizer.encode(body)\n",
    "  totkens = tokens[1:-1]\n",
    "  lens += [len(tokens)]\n",
    "  did = vocab.id(nid2did[body_['nid']])\n",
    "  tokens = gezi.pad(tokens[1:-1], emb_size)\n",
    "  emb[did] = np.asarray(tokens)\n",
    "#   if len(lens) > 100:\n",
    "#     break"
   ]
  },
  {
   "cell_type": "code",
   "execution_count": 17,
   "metadata": {},
   "outputs": [
    {
     "data": {
      "text/plain": [
       "array([[    1,     0,     0, ...,     0,     0,     0],\n",
       "       [    1,     0,     0, ...,     0,     0,     0],\n",
       "       [ 9300, 14263,  2821, ...,  9707,  7308,  4317],\n",
       "       ...,\n",
       "       [ 2372,  1128,  1107, ...,  1170,  1105,  1256],\n",
       "       [  123,   118,  1795, ...,  4254,  2237,  1348],\n",
       "       [ 1109,  1148,  1226, ...,  8125, 24996,   117]])"
      ]
     },
     "execution_count": 17,
     "metadata": {},
     "output_type": "execute_result"
    }
   ],
   "source": [
    "emb = np.asarray(emb)\n",
    "emb"
   ]
  },
  {
   "cell_type": "code",
   "execution_count": 18,
   "metadata": {},
   "outputs": [
    {
     "data": {
      "text/plain": [
       "121.96120540884651"
      ]
     },
     "execution_count": 18,
     "metadata": {},
     "output_type": "execute_result"
    }
   ],
   "source": [
    "np.mean(lens)"
   ]
  },
  {
   "cell_type": "code",
   "execution_count": 19,
   "metadata": {},
   "outputs": [
    {
     "data": {
      "text/plain": [
       "623"
      ]
     },
     "execution_count": 19,
     "metadata": {},
     "output_type": "execute_result"
    }
   ],
   "source": [
    "np.max(lens)"
   ]
  },
  {
   "cell_type": "code",
   "execution_count": 20,
   "metadata": {},
   "outputs": [
    {
     "data": {
      "text/plain": [
       "2"
      ]
     },
     "execution_count": 20,
     "metadata": {},
     "output_type": "execute_result"
    }
   ],
   "source": [
    "np.min(lens)"
   ]
  },
  {
   "cell_type": "code",
   "execution_count": 21,
   "metadata": {},
   "outputs": [],
   "source": [
    "np.save(f'../input/body_lookup.npy', emb)"
   ]
  },
  {
   "cell_type": "markdown",
   "metadata": {},
   "source": [
    "# Entity"
   ]
  },
  {
   "cell_type": "code",
   "execution_count": 38,
   "metadata": {},
   "outputs": [
    {
     "name": "stderr",
     "output_type": "stream",
     "text": [
      "  0%|          | 331/130379 [00:00<00:02, 54709.75it/s]"
     ]
    },
    {
     "name": "stdout",
     "output_type": "stream",
     "text": [
      "130381\n",
      "N82836\thealth\tmedical\tWhere to Get a Cheap Flu Shot: Walmart, CVS, Costco, and More\tThe Centers for Disease Control and Prevention recommends that everyone over the age of 6 months get a dose of the influenza vaccine. To find out where to get cheap flu shots in 2019, we compared prices at Walgreens, CVS, Rite Aid, Walmart, Target, Kroger, Safeway, Meijer, Costco, and Sam's Club.\thttps://assets.msn.com/labs/mind/AAI3QbY.html\t[{\"Label\": \"Costco\", \"Type\": \"O\", \"WikidataId\": \"Q715583\", \"Confidence\": 1.0, \"OccurrenceOffsets\": [45], \"SurfaceForms\": [\"Costco\"]}, {\"Label\": \"CVS Pharmacy\", \"Type\": \"O\", \"WikidataId\": \"Q2078880\", \"Confidence\": 0.971, \"OccurrenceOffsets\": [40], \"SurfaceForms\": [\"CVS\"]}, {\"Label\": \"Walmart\", \"Type\": \"O\", \"WikidataId\": \"Q483551\", \"Confidence\": 1.0, \"OccurrenceOffsets\": [31], \"SurfaceForms\": [\"Walmart\"]}]\t[{\"Label\": \"Costco\", \"Type\": \"O\", \"WikidataId\": \"Q715583\", \"Confidence\": 1.0, \"OccurrenceOffsets\": [274], \"SurfaceForms\": [\"Costco\"]}, {\"Label\": \"Meijer\", \"Type\": \"O\", \"WikidataId\": \"Q1917753\", \"Confidence\": 0.998, \"OccurrenceOffsets\": [266], \"SurfaceForms\": [\"Meijer\"]}, {\"Label\": \"CVS Pharmacy\", \"Type\": \"O\", \"WikidataId\": \"Q2078880\", \"Confidence\": 0.971, \"OccurrenceOffsets\": [217], \"SurfaceForms\": [\"CVS\"]}, {\"Label\": \"Sam's Club\", \"Type\": \"O\", \"WikidataId\": \"Q1972120\", \"Confidence\": 1.0, \"OccurrenceOffsets\": [286], \"SurfaceForms\": [\"Sam's Club\"]}, {\"Label\": \"Safeway Inc.\", \"Type\": \"O\", \"WikidataId\": \"Q1508234\", \"Confidence\": 1.0, \"OccurrenceOffsets\": [257], \"SurfaceForms\": [\"Safeway\"]}, {\"Label\": \"Walmart\", \"Type\": \"O\", \"WikidataId\": \"Q483551\", \"Confidence\": 1.0, \"OccurrenceOffsets\": [232], \"SurfaceForms\": [\"Walmart\"]}, {\"Label\": \"Target Corporation\", \"Type\": \"O\", \"WikidataId\": \"Q1046951\", \"Confidence\": 1.0, \"OccurrenceOffsets\": [241], \"SurfaceForms\": [\"Target\"]}, {\"Label\": \"Rite Aid\", \"Type\": \"O\", \"WikidataId\": \"Q3433273\", \"Confidence\": 1.0, \"OccurrenceOffsets\": [222], \"SurfaceForms\": [\"Rite Aid\"]}, {\"Label\": \"Walgreens\", \"Type\": \"O\", \"WikidataId\": \"Q1591889\", \"Confidence\": 1.0, \"OccurrenceOffsets\": [206], \"SurfaceForms\": [\"Walgreens\"]}, {\"Label\": \"Kroger\", \"Type\": \"O\", \"WikidataId\": \"Q153417\", \"Confidence\": 1.0, \"OccurrenceOffsets\": [249], \"SurfaceForms\": [\"Kroger\"]}, {\"Label\": \"Centers for Disease Control and Prevention\", \"Type\": \"O\", \"WikidataId\": \"Q583725\", \"Confidence\": 0.994, \"OccurrenceOffsets\": [4], \"SurfaceForms\": [\"Centers for Disease Control and Prevention\"]}]\n",
      "\n",
      "[{'Label': 'Costco', 'Type': 'O', 'WikidataId': 'Q715583', 'Confidence': 1.0, 'OccurrenceOffsets': [45], 'SurfaceForms': ['Costco']}, {'Label': 'CVS Pharmacy', 'Type': 'O', 'WikidataId': 'Q2078880', 'Confidence': 0.971, 'OccurrenceOffsets': [40], 'SurfaceForms': ['CVS']}, {'Label': 'Walmart', 'Type': 'O', 'WikidataId': 'Q483551', 'Confidence': 1.0, 'OccurrenceOffsets': [31], 'SurfaceForms': ['Walmart']}]\n",
      "[{'Label': 'Costco', 'Type': 'O', 'WikidataId': 'Q715583', 'Confidence': 1.0, 'OccurrenceOffsets': [274], 'SurfaceForms': ['Costco']}, {'Label': 'Meijer', 'Type': 'O', 'WikidataId': 'Q1917753', 'Confidence': 0.998, 'OccurrenceOffsets': [266], 'SurfaceForms': ['Meijer']}, {'Label': 'CVS Pharmacy', 'Type': 'O', 'WikidataId': 'Q2078880', 'Confidence': 0.971, 'OccurrenceOffsets': [217], 'SurfaceForms': ['CVS']}, {'Label': \"Sam's Club\", 'Type': 'O', 'WikidataId': 'Q1972120', 'Confidence': 1.0, 'OccurrenceOffsets': [286], 'SurfaceForms': [\"Sam's Club\"]}, {'Label': 'Safeway Inc.', 'Type': 'O', 'WikidataId': 'Q1508234', 'Confidence': 1.0, 'OccurrenceOffsets': [257], 'SurfaceForms': ['Safeway']}, {'Label': 'Walmart', 'Type': 'O', 'WikidataId': 'Q483551', 'Confidence': 1.0, 'OccurrenceOffsets': [232], 'SurfaceForms': ['Walmart']}, {'Label': 'Target Corporation', 'Type': 'O', 'WikidataId': 'Q1046951', 'Confidence': 1.0, 'OccurrenceOffsets': [241], 'SurfaceForms': ['Target']}, {'Label': 'Rite Aid', 'Type': 'O', 'WikidataId': 'Q3433273', 'Confidence': 1.0, 'OccurrenceOffsets': [222], 'SurfaceForms': ['Rite Aid']}, {'Label': 'Walgreens', 'Type': 'O', 'WikidataId': 'Q1591889', 'Confidence': 1.0, 'OccurrenceOffsets': [206], 'SurfaceForms': ['Walgreens']}, {'Label': 'Kroger', 'Type': 'O', 'WikidataId': 'Q153417', 'Confidence': 1.0, 'OccurrenceOffsets': [249], 'SurfaceForms': ['Kroger']}, {'Label': 'Centers for Disease Control and Prevention', 'Type': 'O', 'WikidataId': 'Q583725', 'Confidence': 0.994, 'OccurrenceOffsets': [4], 'SurfaceForms': ['Centers for Disease Control and Prevention']}]\n",
      "N82836\n",
      "health\n",
      "medical\n",
      "Where to Get a Cheap Flu Shot: Walmart, CVS, Costco, and More\n",
      "The Centers for Disease Control and Prevention recommends that everyone over the age of 6 months get a dose of the influenza vaccine. To find out where to get cheap flu shots in 2019, we compared prices at Walgreens, CVS, Rite Aid, Walmart, Target, Kroger, Safeway, Meijer, Costco, and Sam's Club.\n",
      "https://assets.msn.com/labs/mind/AAI3QbY.html\n",
      "[{\"Label\": \"Costco\", \"Type\": \"O\", \"WikidataId\": \"Q715583\", \"Confidence\": 1.0, \"OccurrenceOffsets\": [45], \"SurfaceForms\": [\"Costco\"]}, {\"Label\": \"CVS Pharmacy\", \"Type\": \"O\", \"WikidataId\": \"Q2078880\", \"Confidence\": 0.971, \"OccurrenceOffsets\": [40], \"SurfaceForms\": [\"CVS\"]}, {\"Label\": \"Walmart\", \"Type\": \"O\", \"WikidataId\": \"Q483551\", \"Confidence\": 1.0, \"OccurrenceOffsets\": [31], \"SurfaceForms\": [\"Walmart\"]}]\n",
      "[{\"Label\": \"Costco\", \"Type\": \"O\", \"WikidataId\": \"Q715583\", \"Confidence\": 1.0, \"OccurrenceOffsets\": [274], \"SurfaceForms\": [\"Costco\"]}, {\"Label\": \"Meijer\", \"Type\": \"O\", \"WikidataId\": \"Q1917753\", \"Confidence\": 0.998, \"OccurrenceOffsets\": [266], \"SurfaceForms\": [\"Meijer\"]}, {\"Label\": \"CVS Pharmacy\", \"Type\": \"O\", \"WikidataId\": \"Q2078880\", \"Confidence\": 0.971, \"OccurrenceOffsets\": [217], \"SurfaceForms\": [\"CVS\"]}, {\"Label\": \"Sam's Club\", \"Type\": \"O\", \"WikidataId\": \"Q1972120\", \"Confidence\": 1.0, \"OccurrenceOffsets\": [286], \"SurfaceForms\": [\"Sam's Club\"]}, {\"Label\": \"Safeway Inc.\", \"Type\": \"O\", \"WikidataId\": \"Q1508234\", \"Confidence\": 1.0, \"OccurrenceOffsets\": [257], \"SurfaceForms\": [\"Safeway\"]}, {\"Label\": \"Walmart\", \"Type\": \"O\", \"WikidataId\": \"Q483551\", \"Confidence\": 1.0, \"OccurrenceOffsets\": [232], \"SurfaceForms\": [\"Walmart\"]}, {\"Label\": \"Target Corporation\", \"Type\": \"O\", \"WikidataId\": \"Q1046951\", \"Confidence\": 1.0, \"OccurrenceOffsets\": [241], \"SurfaceForms\": [\"Target\"]}, {\"Label\": \"Rite Aid\", \"Type\": \"O\", \"WikidataId\": \"Q3433273\", \"Confidence\": 1.0, \"OccurrenceOffsets\": [222], \"SurfaceForms\": [\"Rite Aid\"]}, {\"Label\": \"Walgreens\", \"Type\": \"O\", \"WikidataId\": \"Q1591889\", \"Confidence\": 1.0, \"OccurrenceOffsets\": [206], \"SurfaceForms\": [\"Walgreens\"]}, {\"Label\": \"Kroger\", \"Type\": \"O\", \"WikidataId\": \"Q153417\", \"Confidence\": 1.0, \"OccurrenceOffsets\": [249], \"SurfaceForms\": [\"Kroger\"]}, {\"Label\": \"Centers for Disease Control and Prevention\", \"Type\": \"O\", \"WikidataId\": \"Q583725\", \"Confidence\": 0.994, \"OccurrenceOffsets\": [4], \"SurfaceForms\": [\"Centers for Disease Control and Prevention\"]}]\n"
     ]
    },
    {
     "name": "stderr",
     "output_type": "stream",
     "text": [
      "\n"
     ]
    }
   ],
   "source": [
    "files = [\n",
    "          '../input/news/news.tsv',\n",
    "        ]\n",
    "\n",
    "# emb_size = 2\n",
    "vocab = gezi.Vocab('../input/did.txt')\n",
    "emb_height = vocab.size()\n",
    "print(emb_height)\n",
    "# emb = [empty] * emb_height\n",
    "\n",
    "title_entity_lens = []\n",
    "abstract_entity_lens = []\n",
    "for file_ in files:\n",
    "  total = len(open(file_).readlines())\n",
    "  for line in tqdm(open(file_), total=total):\n",
    "    l = line.strip().split('\\t')\n",
    "    did, title_entities, abstract_entities = l[0], l[-2], l[-1]\n",
    "    title_entities = json.loads(title_entities)\n",
    "    abstract_entities = json.loads(abstract_entities)\n",
    "    title_entity_lens +=  [len(title_entities)]\n",
    "    abstract_entity_lens += [len(abstract_entities)]\n",
    "    if len(abstract_entities) > 10:\n",
    "      print(line)\n",
    "      print(title_entities)\n",
    "      print(abstract_entities)\n",
    "      print('\\n'.join(l))\n",
    "      break"
   ]
  },
  {
   "cell_type": "code",
   "execution_count": null,
   "metadata": {},
   "outputs": [],
   "source": [
    "files = [\n",
    "          '../input/news/news.tsv',\n",
    "        ]\n",
    "\n",
    "# emb_size = 2\n",
    "vocab = gezi.Vocab('../input/did.txt')\n",
    "emb_height = vocab.size()\n",
    "print(emb_height)\n",
    "\n",
    "entity_vocab = gezi.Vocab('../input/entity.txt')\n",
    "entity_type_vocab = gezi.Vocab('../input/entity_type.txt')\n",
    "\n",
    "\n",
    "MAX_TITLE_ENTITIES = 9\n",
    "MAX_ABSTRACT_ENTITIES = 30\n",
    "\n",
    "emb_size = (MAX_TITLE_ENTITIES + MAX_ABSTRACT_ENTITIES) * 2\n",
    "\n",
    "empty = [0] * emb_size\n",
    "empty[0] = 1 \n",
    "empty[MAX_TITLE_ENTITIES] = 1\n",
    "emb = [empty] * emb_height\n",
    "\n",
    "title_entity_lens = []\n",
    "abstract_entity_lens = []\n",
    "for file_ in files:\n",
    "  total = len(open(file_).readlines())\n",
    "  for line in tqdm(open(file_), total=total):\n",
    "    l = line.strip().split('\\t')\n",
    "    did, title_entities, abstract_entities = l[0], l[-2], l[-1]\n",
    "    did = vocab.id(did)\n",
    "    title_entities = json.loads(title_entities)\n",
    "    abstract_entities = json.loads(abstract_entities)\n",
    "    for i, m in enumerate(title_entities):\n",
    "      emb[did][i] = entity_vocab.id(enm['WikidataId'])\n",
    "      "
   ]
  },
  {
   "cell_type": "code",
   "execution_count": 32,
   "metadata": {},
   "outputs": [
    {
     "data": {
      "text/plain": [
       "1.1927917839529372"
      ]
     },
     "execution_count": 32,
     "metadata": {},
     "output_type": "execute_result"
    }
   ],
   "source": [
    "np.mean(title_entity_lens)"
   ]
  },
  {
   "cell_type": "code",
   "execution_count": 33,
   "metadata": {},
   "outputs": [
    {
     "data": {
      "text/plain": [
       "9"
      ]
     },
     "execution_count": 33,
     "metadata": {},
     "output_type": "execute_result"
    }
   ],
   "source": [
    "np.max(title_entity_lens)"
   ]
  },
  {
   "cell_type": "code",
   "execution_count": 34,
   "metadata": {},
   "outputs": [
    {
     "data": {
      "text/plain": [
       "0"
      ]
     },
     "execution_count": 34,
     "metadata": {},
     "output_type": "execute_result"
    }
   ],
   "source": [
    "np.min(title_entity_lens)"
   ]
  },
  {
   "cell_type": "code",
   "execution_count": 35,
   "metadata": {},
   "outputs": [
    {
     "data": {
      "text/plain": [
       "1.9756095690256867"
      ]
     },
     "execution_count": 35,
     "metadata": {},
     "output_type": "execute_result"
    }
   ],
   "source": [
    "np.mean(abstract_entity_lens)"
   ]
  },
  {
   "cell_type": "code",
   "execution_count": 36,
   "metadata": {},
   "outputs": [
    {
     "data": {
      "text/plain": [
       "30"
      ]
     },
     "execution_count": 36,
     "metadata": {},
     "output_type": "execute_result"
    }
   ],
   "source": [
    "np.max(abstract_entity_lens)"
   ]
  },
  {
   "cell_type": "code",
   "execution_count": 37,
   "metadata": {},
   "outputs": [
    {
     "data": {
      "text/plain": [
       "0"
      ]
     },
     "execution_count": 37,
     "metadata": {},
     "output_type": "execute_result"
    }
   ],
   "source": [
    "np.min(abstract_entity_lens)"
   ]
  },
  {
   "cell_type": "markdown",
   "metadata": {},
   "source": [
    "# merge emb"
   ]
  },
  {
   "cell_type": "code",
   "execution_count": 25,
   "metadata": {},
   "outputs": [],
   "source": [
    "keys = ['cat', 'title']\n",
    "embs = []\n",
    "for key in keys:\n",
    "  embs += [np.load(f'../input/{key}_lookup.npy')]"
   ]
  },
  {
   "cell_type": "code",
   "execution_count": 26,
   "metadata": {},
   "outputs": [
    {
     "data": {
      "text/plain": [
       "array([[    1,     1,     1, ...,     0,     0,     0],\n",
       "       [    1,     1,     1, ...,     0,     0,     0],\n",
       "       [    3,    40,  1109, ...,     0,     0,     0],\n",
       "       ...,\n",
       "       [   10,   104,  9743, ...,     0,     0,     0],\n",
       "       [    2,     3,  2289, ...,     0,     0,     0],\n",
       "       [    2,    19, 21166, ...,     0,     0,     0]])"
      ]
     },
     "execution_count": 26,
     "metadata": {},
     "output_type": "execute_result"
    }
   ],
   "source": [
    "emb = np.concatenate(embs, 1)\n",
    "emb"
   ]
  },
  {
   "cell_type": "code",
   "execution_count": 27,
   "metadata": {},
   "outputs": [
    {
     "data": {
      "text/plain": [
       "(130381, 32)"
      ]
     },
     "execution_count": 27,
     "metadata": {},
     "output_type": "execute_result"
    }
   ],
   "source": [
    "emb.shape"
   ]
  },
  {
   "cell_type": "code",
   "execution_count": 28,
   "metadata": {},
   "outputs": [],
   "source": [
    "np.save('../input/doc_lookup.npy', emb)"
   ]
  },
  {
   "cell_type": "code",
   "execution_count": null,
   "metadata": {},
   "outputs": [],
   "source": []
  }
 ],
 "metadata": {
  "kernelspec": {
   "display_name": "Python 3",
   "language": "python",
   "name": "python3"
  },
  "language_info": {
   "codemirror_mode": {
    "name": "ipython",
    "version": 3
   },
   "file_extension": ".py",
   "mimetype": "text/x-python",
   "name": "python",
   "nbconvert_exporter": "python",
   "pygments_lexer": "ipython3",
   "version": "3.6.8"
  }
 },
 "nbformat": 4,
 "nbformat_minor": 2
}
